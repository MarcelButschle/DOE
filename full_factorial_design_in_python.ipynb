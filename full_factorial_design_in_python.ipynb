{
 "cells": [
  {
   "cell_type": "markdown",
   "id": "7b11bbf1",
   "metadata": {},
   "source": [
    "# A full factorial design in Python from Beginning to End\n",
    "\n",
    "*Adapted into a Jupyter Notebook from the article on Experimental Design Hub.*"
   ]
  },
  {
   "cell_type": "markdown",
   "id": "d92da556",
   "metadata": {},
   "source": [
    "\n",
    "### Introduction\n",
    "\n",
    "Commercial DoE and statistical software is incredibly powerful, but they also come with a hefty price tag. In addition, such software can be pretty daunting because of their many features of which you 80% probably don’t need.\n",
    "\n",
    "Therefore, this notebook shows how to use Python to perform a **2‑level full factorial design** from start to finish. Feel free to use and adapt the functions to your needs.\n"
   ]
  },
  {
   "cell_type": "markdown",
   "id": "8a3e9309",
   "metadata": {},
   "source": [
    "### Packages"
   ]
  },
  {
   "cell_type": "code",
   "execution_count": null,
   "id": "507dde4a",
   "metadata": {},
   "outputs": [],
   "source": [
    "\n",
    "# Core packages used throughout the notebook\n",
    "from pyDOE2 import fullfact\n",
    "import numpy as np\n",
    "import pandas as pd\n",
    "import matplotlib.pyplot as plt\n",
    "import itertools\n",
    "import math\n",
    "from statsmodels.formula.api import ols\n",
    "import statsmodels.api as sm\n",
    "from mpl_toolkits.mplot3d import Axes3D  # noqa: F401 - needed for 3D plotting\n",
    "\n",
    "# Display plots inline\n",
    "%matplotlib inline\n"
   ]
  },
  {
   "cell_type": "markdown",
   "id": "1e48bf98",
   "metadata": {},
   "source": [
    "\n",
    "**What these packages do (briefly):**\n",
    "\n",
    "1. `pyDOE2.fullfact` generates full factorial designs.  \n",
    "2. `numpy` and `pandas` handle arrays and data tables.  \n",
    "3. `matplotlib` creates visualizations.  \n",
    "4. `itertools` and `math` assist with combinations and layout math.  \n",
    "5. `statsmodels` fits linear models (OLS), runs ANOVA, and provides diagnostic tools.  \n",
    "6. `mpl_toolkits.mplot3d` enables basic 3D plots.\n"
   ]
  },
  {
   "cell_type": "markdown",
   "id": "ab9fb40e",
   "metadata": {},
   "source": [
    "### Experimental plan"
   ]
  },
  {
   "cell_type": "code",
   "execution_count": null,
   "id": "81bbdd30",
   "metadata": {},
   "outputs": [],
   "source": [
    "\n",
    "def create_full_factorial_design(factors, randomize=False):\n",
    "    \"\"\"Create a 2-level full factorial design (-1/+1 coding).\n",
    "\n",
    "    Parameters\n",
    "    ----------\n",
    "    factors : list[str]\n",
    "        Names of factors (columns) in the design matrix.\n",
    "    randomize : bool, optional\n",
    "        If True, shuffle the order of runs.\n",
    "\n",
    "    Returns\n",
    "    -------\n",
    "    pd.DataFrame\n",
    "        Design matrix with -1/+1 coded levels and columns named after `factors`.\n",
    "    \"\"\"\n",
    "    # Create a 2-level full factorial design with 0/1 coding\n",
    "    design = fullfact([2] * len(factors))\n",
    "\n",
    "    # Convert levels from 0/1 to -1/+1\n",
    "    design = 2 * design - 1\n",
    "\n",
    "    # Convert design matrix to a DataFrame\n",
    "    df = pd.DataFrame(design, columns=factors)\n",
    "\n",
    "    # Randomize the design if needed\n",
    "    if randomize:\n",
    "        df = df.sample(frac=1, random_state=42).reset_index(drop=True)\n",
    "\n",
    "    return df\n"
   ]
  },
  {
   "cell_type": "markdown",
   "id": "05e59e7e",
   "metadata": {},
   "source": [
    "\n",
    "**Example usage:** create a plan for Temperature (T), Pressure (P), Concentration (CoF), and RPM.  \n",
    "Uncomment the `to_excel` line if you want to export the plan and later record your results in the same file.\n"
   ]
  },
  {
   "cell_type": "code",
   "execution_count": null,
   "id": "fd57b745",
   "metadata": {},
   "outputs": [],
   "source": [
    "\n",
    "factors = ['T', 'P', 'CoF', 'RPM']\n",
    "design_df = create_full_factorial_design(factors, randomize=False)\n",
    "design_df.head()\n",
    "# design_df.to_excel('full_factorial_design_filtration_rate.xlsx', index=False)\n"
   ]
  },
  {
   "cell_type": "markdown",
   "id": "f170243c",
   "metadata": {},
   "source": [
    "\n",
    "### Visualization\n",
    "\n",
    "After running your experiments and adding the response (e.g., `Filtration_rate`) as a new column to your Excel/CSV, you can compute **main effects** and **interaction plots** to get a quick overview.\n",
    "\n",
    "#### Main effects\n"
   ]
  },
  {
   "cell_type": "code",
   "execution_count": null,
   "id": "56b5868b",
   "metadata": {},
   "outputs": [],
   "source": [
    "\n",
    "def main_effects_plot(excel_file, result_column):\n",
    "    \"\"\"Plot main effects for each factor in a -1/+1 coded factorial design.\n",
    "\n",
    "    Parameters\n",
    "    ----------\n",
    "    excel_file : str\n",
    "        Path to an Excel file containing the design + result.\n",
    "    result_column : str\n",
    "        Name of the response column.\n",
    "    \"\"\"\n",
    "    # Load data from excel\n",
    "    df = pd.read_excel(excel_file)\n",
    "\n",
    "    # Identify factors by excluding the result column\n",
    "    factors = [col for col in df.columns if col != result_column]\n",
    "\n",
    "    # Calculate main effects\n",
    "    main_effects = {}\n",
    "    for factor in factors:\n",
    "        mean_plus = df[df[factor] == 1][result_column].mean()\n",
    "        mean_minus = df[df[factor] == -1][result_column].mean()\n",
    "        main_effects[factor] = mean_plus - mean_minus\n",
    "\n",
    "    # Plot main effects\n",
    "    fig, ax = plt.subplots(figsize=(5, 5))\n",
    "    ax.bar(main_effects.keys(), main_effects.values())\n",
    "\n",
    "    # Annotate the bars with their values\n",
    "    for factor, value in main_effects.items():\n",
    "        ax.text(factor, value + 0.01 * abs(value), f\"{value:.2f}\", ha='center', va='bottom')\n",
    "\n",
    "    ax.set_ylabel('Main Effect')\n",
    "    ax.set_title('Main Effects Plot')\n",
    "    plt.xticks(rotation=45, ha=\"right\")\n",
    "    plt.show()\n",
    "\n",
    "# Example call (requires a file with results)\n",
    "# excel_file = 'full_factorial_design_filtration_rate_results.xlsx'\n",
    "# result_column = 'Filtration_rate'\n",
    "# main_effects_plot(excel_file, result_column)\n"
   ]
  },
  {
   "cell_type": "markdown",
   "id": "31e6d5f7",
   "metadata": {},
   "source": [
    "#### Interactions"
   ]
  },
  {
   "cell_type": "code",
   "execution_count": null,
   "id": "b4394071",
   "metadata": {},
   "outputs": [],
   "source": [
    "\n",
    "def interaction_point_plot(excel_file, result_column):\n",
    "    \"\"\"Create point plots for all 2-way interactions.\n",
    "\n",
    "    Parameters\n",
    "    ----------\n",
    "    excel_file : str\n",
    "        Path to an Excel file containing the design + result.\n",
    "    result_column : str\n",
    "        Name of the response column.\n",
    "    \"\"\"\n",
    "    df = pd.read_excel(excel_file)\n",
    "    factors = [col for col in df.columns if col != result_column]\n",
    "    interactions = list(itertools.combinations(factors, 2))\n",
    "\n",
    "    # Calculate number of rows and columns for subplots\n",
    "    cols = 3\n",
    "    rows = math.ceil(len(interactions) / cols)\n",
    "    fig, axs = plt.subplots(rows, cols, figsize=(10, 10 * rows / 3))\n",
    "\n",
    "    for idx, interaction in enumerate(interactions):\n",
    "        row = idx // cols\n",
    "        col = idx % cols\n",
    "\n",
    "        ax = axs[row, col] if rows > 1 else axs[col]\n",
    "        for level in [-1, 1]:\n",
    "            subset = df[df[interaction[0]] == level]\n",
    "            ax.plot(\n",
    "                subset[interaction[1]].unique(),\n",
    "                subset.groupby(interaction[1])[result_column].mean(),\n",
    "                'o-',\n",
    "                label=f'{interaction[0]} = {level}'\n",
    "            )\n",
    "\n",
    "        ax.set_title(f'{interaction[0]} x {interaction[1]}')\n",
    "        ax.legend()\n",
    "        ax.grid(True)\n",
    "\n",
    "    # Handle any remaining axes (if there's no data to plot in them)\n",
    "    for idx in range(len(interactions), rows * cols):\n",
    "        row = idx // cols\n",
    "        col = idx % cols\n",
    "        axs[row, col].axis('off')\n",
    "\n",
    "    plt.tight_layout()\n",
    "    plt.show()\n",
    "\n",
    "# Example call (requires a file with results)\n",
    "# interaction_point_plot(excel_file, result_column)\n"
   ]
  },
  {
   "cell_type": "markdown",
   "id": "b8f5df0e",
   "metadata": {},
   "source": [
    "### Model building / ANOVA"
   ]
  },
  {
   "cell_type": "code",
   "execution_count": null,
   "id": "f2d2ce5a",
   "metadata": {},
   "outputs": [],
   "source": [
    "\n",
    "# Example workflow for model fitting and ANOVA (requires your results file)\n",
    "# excel_file = 'full_factorial_design_filtration_rate_results.xlsx'\n",
    "\n",
    "# df = pd.read_excel(excel_file)\n",
    "\n",
    "# Define a model formula (adjust factors/interactions for your case)\n",
    "# formula = 'Filtration_rate ~ T + CoF + P + RPM + T:CoF + T:RPM'\n",
    "# model = ols(formula, data=df).fit()\n",
    "\n",
    "# Perform ANOVA (Type I SS shown here; consider Type II/III as needed)\n",
    "# anova_table = sm.stats.anova_lm(model, typ=1)\n",
    "# anova_table\n"
   ]
  },
  {
   "cell_type": "markdown",
   "id": "7c809df9",
   "metadata": {},
   "source": [
    "### Model control / diagnostics"
   ]
  },
  {
   "cell_type": "code",
   "execution_count": null,
   "id": "27e6ebf3",
   "metadata": {},
   "outputs": [],
   "source": [
    "\n",
    "def diagnostic_plots(model):\n",
    "    \"\"\"Create residual diagnostics: residuals vs predicted, residuals vs run, and QQ-plot.\"\"\"\n",
    "    # Extract residuals and predicted values from the model\n",
    "    residuals = model.resid\n",
    "    predicted = model.fittedvalues\n",
    "\n",
    "    # Create subplots\n",
    "    fig, axs = plt.subplots(1, 3, figsize=(10, 5))\n",
    "\n",
    "    # Residuals vs Predicted\n",
    "    axs[0].scatter(predicted, residuals, edgecolors='k', facecolors='none')\n",
    "    axs[0].axhline(y=0, color='k', linestyle='dashed', linewidth=1)\n",
    "    axs[0].set_title('Residuals vs. Predicted')\n",
    "    axs[0].set_xlabel('Predicted values')\n",
    "    axs[0].set_ylabel('Residuals')\n",
    "\n",
    "    # Residuals vs. Runs (Order of Data Collection)\n",
    "    axs[1].scatter(range(len(residuals)), residuals, edgecolors='k', facecolors='none')\n",
    "    axs[1].axhline(y=0, color='k', linestyle='dashed', linewidth=1)\n",
    "    axs[1].set_title('Residuals vs. Run')\n",
    "    axs[1].set_xlabel('Run')\n",
    "    axs[1].set_ylabel('Residuals')\n",
    "\n",
    "    # Q-Q plot\n",
    "    sm.qqplot(residuals, line='45', fit=True, ax=axs[2])\n",
    "    axs[2].set_title('Q-Q Plot')\n",
    "\n",
    "    plt.tight_layout()\n",
    "    plt.show()\n",
    "\n",
    "# Example:\n",
    "# print(model.summary())\n",
    "# diagnostic_plots(model)\n"
   ]
  },
  {
   "cell_type": "markdown",
   "id": "f85da8ed",
   "metadata": {},
   "source": [
    "### 3D plots"
   ]
  },
  {
   "cell_type": "code",
   "execution_count": null,
   "id": "883683a6",
   "metadata": {},
   "outputs": [],
   "source": [
    "\n",
    "def plot_3D_surface(model, data, x_name, y_name, z_name, held_factor, held_value, title):\n",
    "    \"\"\"Plot a 3D surface for two factors while holding a third constant.\"\"\"\n",
    "    x_range = np.linspace(-1, 1, 100)\n",
    "    y_range = np.linspace(-1, 1, 100)\n",
    "    x_grid, y_grid = np.meshgrid(x_range, y_range)\n",
    "\n",
    "    df_pred = pd.DataFrame({\n",
    "        x_name: x_grid.ravel(),\n",
    "        y_name: y_grid.ravel(),\n",
    "        held_factor: [held_value] * x_grid.size\n",
    "    })\n",
    "    df_pred = sm.add_constant(df_pred)  # Add a constant to match the model's expectations\n",
    "    Z = model.predict(df_pred).values.reshape(x_grid.shape)\n",
    "\n",
    "    fig = plt.figure(figsize=(10, 7))\n",
    "    ax = fig.add_subplot(111, projection='3d')\n",
    "\n",
    "    # Surface\n",
    "    ax.plot_surface(x_grid, y_grid, Z, cmap='viridis', alpha=0.7)\n",
    "\n",
    "    # Overlay observed points at the selected held value\n",
    "    mask = data[held_factor] == held_value\n",
    "    ax.scatter(data.loc[mask, x_name], data.loc[mask, y_name], data.loc[mask, z_name], edgecolor='k')\n",
    "\n",
    "    ax.set_xlabel(x_name)\n",
    "    ax.set_ylabel(y_name)\n",
    "    ax.set_zlabel(z_name)\n",
    "    ax.set_title(title)\n",
    "    plt.tight_layout()\n",
    "    plt.show()\n",
    "\n",
    "# Example (requires fitted `model` and your dataframe `df` with columns `[T, P, CoF, RPM, Filtration_rate]`):\n",
    "# plot_3D_surface(model, df, 'T', 'CoF', 'Filtration_rate', held_factor='RPM', held_value=1, title='T vs CoF @ RPM=+1')\n"
   ]
  },
  {
   "cell_type": "markdown",
   "id": "c4fa7c48",
   "metadata": {},
   "source": [
    "### Contour plots"
   ]
  },
  {
   "cell_type": "code",
   "execution_count": null,
   "id": "c4cf631b",
   "metadata": {},
   "outputs": [],
   "source": [
    "\n",
    "# Function to create contour plot\n",
    "def plot_contour(model, x_name, y_name, held_factor, held_value, title):\n",
    "    x_range = np.linspace(-1, 1, 100)\n",
    "    y_range = np.linspace(-1, 1, 100)\n",
    "    x_grid, y_grid = np.meshgrid(x_range, y_range)\n",
    "\n",
    "    predictions = model.predict(pd.DataFrame({\n",
    "        x_name: x_grid.ravel(),\n",
    "        y_name: y_grid.ravel(),\n",
    "        held_factor: held_value,\n",
    "    }))\n",
    "    Z = predictions.values.reshape(x_grid.shape)\n",
    "\n",
    "    plt.figure(figsize=(7, 5))\n",
    "    contour = plt.contourf(x_grid, y_grid, Z, 20, cmap='viridis')\n",
    "    plt.colorbar(contour)\n",
    "    plt.title(title)\n",
    "    plt.xlabel(x_name)\n",
    "    plt.ylabel(y_name)\n",
    "    plt.tight_layout()\n",
    "    plt.show()\n",
    "\n",
    "# Example (requires fitted `model`):\n",
    "# plot_contour(model, 'T', 'CoF', held_factor='RPM', held_value=1, title='Contour of T vs CoF @ RPM=+1')\n"
   ]
  },
  {
   "cell_type": "markdown",
   "id": "075356f0",
   "metadata": {},
   "source": [
    "\n",
    "---\n",
    "\n",
    "### Notes\n",
    "- The plotting functions assume **-1/+1 coding** for factor levels.\n",
    "- Replace file names, factor names, and the **model formula** with those relevant to your experiment.\n",
    "- Consider using Type II (`typ=2`) or Type III (`typ=3`) ANOVA if you have an unbalanced design or want different sums of squares.\n",
    "\n",
    "*Source: Adapted from “A full factorial design in Python from Beginning to End” on Experimental Design Hub.*\n"
   ]
  }
 ],
 "metadata": {},
 "nbformat": 4,
 "nbformat_minor": 5
}
